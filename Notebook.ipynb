{
 "cells": [
  {
   "cell_type": "markdown",
   "metadata": {},
   "source": [
    "# Procesamientos de imagenes y video"
   ]
  },
  {
   "cell_type": "markdown",
   "metadata": {},
   "source": [
    "La pr&aacute;ctica requiri&oacute; grabar a una persona al volante con el motor apagado, a la altura de los ojos. El conductor debe alternar su mirada hacia el frente, izquierda, derecha, retrovisor y palanca.\n",
    "Este proyecto tiene la finalidad de evaluar nuevos videos en tiempo real para determinar el desempeno del detector de PAVs."
   ]
  },
  {
   "cell_type": "code",
   "execution_count": 6,
   "metadata": {},
   "outputs": [],
   "source": [
    "# Importando librerias\n",
    "import pandas as pd\n",
    "import cv2\n",
    "import os"
   ]
  },
  {
   "cell_type": "code",
   "execution_count": 9,
   "metadata": {},
   "outputs": [
    {
     "name": "stdout",
     "output_type": "stream",
     "text": [
      "          FRENTE     IZQUIERDA      DERECHA   RETROVISOR      PALANCA\n",
      "0  00:00 - 00:09  00:10- 00:21  00:22-00:30  00:31-00:39  00:40-00:49\n"
     ]
    }
   ],
   "source": [
    "# Crear un diccionario con las clases y los valores\n",
    "d = {\n",
    "    \"FRENTE\": [\"00:00 - 00:09\"],\n",
    "    \"IZQUIERDA\": [\"00:10- 00:21\"],\n",
    "    \"DERECHA\": [\"00:22-00:29\"],\n",
    "    \"RETROVISOR\": [\"00:30-00:39\"],\n",
    "    \"PALANCA\": [\"00:40-00:49\"]\n",
    "}\n",
    "\n",
    "# Crear un dataframe con el diccionario\n",
    "df = pd.DataFrame(d)\n",
    "\n",
    "# Mostrar el dataframe\n",
    "print(df)\n",
    "df.to_csv(\"C:/Users/ages0/Documents/Ciencia de Datos Para Sensado Inteligente/Practica2_CDSI_ArianaEspinoza/ARIANA.csv\")"
   ]
  },
  {
   "cell_type": "code",
   "execution_count": 14,
   "metadata": {},
   "outputs": [],
   "source": [
    "import cv2\n",
    "import os\n",
    "\n",
    "def asegurar_directorio(path):\n",
    "    if not os.path.exists(path):\n",
    "        os.makedirs(path)\n",
    "\n",
    "def segmentar_video_y_guardar_frames(video_path, duraciones_segmentos):\n",
    "    cap = cv2.VideoCapture(video_path)\n",
    "    fps = int(cap.get(cv2.CAP_PROP_FPS))\n",
    "    \n",
    "    inicio_frame_actual = 0\n",
    "    for i, duracion in enumerate(duraciones_segmentos):\n",
    "        nombre_carpeta_segmento = f'segmento_{i+1}'\n",
    "        nombre_carpeta_frames = f'{nombre_carpeta_segmento}/frames'\n",
    "        asegurar_directorio(nombre_carpeta_segmento)\n",
    "        asegurar_directorio(nombre_carpeta_frames)\n",
    "        \n",
    "        fourcc = cv2.VideoWriter_fourcc(*'mp4v')\n",
    "        out = cv2.VideoWriter(f'{nombre_carpeta_segmento}/segmento_{i+1}.mp4', fourcc, fps, (int(cap.get(3)), int(cap.get(4))))\n",
    "        \n",
    "        num_frames_segmento = int(duracion * fps)\n",
    "        \n",
    "        cap.set(cv2.CAP_PROP_POS_FRAMES, inicio_frame_actual)\n",
    "        \n",
    "        for j in range(num_frames_segmento):\n",
    "            ret, frame = cap.read()\n",
    "            if not ret:\n",
    "                break\n",
    "            out.write(frame)\n",
    "            # Guardar el frame actual como imagen en la carpeta de frames\n",
    "            cv2.imwrite(f'{nombre_carpeta_frames}/frame_{j+1}.jpg', frame)\n",
    "        \n",
    "        inicio_frame_actual += num_frames_segmento\n",
    "        out.release()\n",
    "    \n",
    "    cap.release()\n",
    "\n",
    "# Ejemplo de cómo llamar a la función con duraciones personalizadas\n",
    "video_path = 'C:/Users/ages0/Desktop/ARIANA.mp4'\n",
    "duraciones_segmentos = [9, 12, 9, 9, 10]  # Lista de duraciones de segmentos en segundos\n",
    "segmentar_video_y_guardar_frames(video_path, duraciones_segmentos)\n"
   ]
  }
 ],
 "metadata": {
  "kernelspec": {
   "display_name": "Python 3",
   "language": "python",
   "name": "python3"
  },
  "language_info": {
   "codemirror_mode": {
    "name": "ipython",
    "version": 3
   },
   "file_extension": ".py",
   "mimetype": "text/x-python",
   "name": "python",
   "nbconvert_exporter": "python",
   "pygments_lexer": "ipython3",
   "version": "3.11.5"
  }
 },
 "nbformat": 4,
 "nbformat_minor": 2
}
