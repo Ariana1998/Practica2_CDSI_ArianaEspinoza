{
 "cells": [
  {
   "cell_type": "markdown",
   "metadata": {},
   "source": [
    "# Procesamientos de imagenes y video"
   ]
  },
  {
   "cell_type": "markdown",
   "metadata": {},
   "source": [
    "La pr&aacute;ctica requiri&oacute; grabar a una persona al volante con el motor apagado, a la altura de los ojos. El conductor debe alternar su mirada hacia el frente, izquierda, derecha, retrovisor y palanca.\n",
    "Este proyecto tiene la finalidad de evaluar nuevos videos en tiempo real para determinar el desempeno del detector de PAVs."
   ]
  },
  {
   "cell_type": "code",
   "execution_count": 10,
   "metadata": {},
   "outputs": [],
   "source": [
    "# Importando librerias\n",
    "import pandas as pd\n",
    "import cv2\n",
    "import os\n",
    "import mediapipe as mp"
   ]
  },
  {
   "cell_type": "code",
   "execution_count": 3,
   "metadata": {},
   "outputs": [],
   "source": [
    "Ruta = \"./Imagen/\"\n",
    "dir_list = os.listdir(Ruta)\n",
    "dir_list.sort()\n",
    "lista_csv = []\n",
    "for i in dir_list:\n",
    "    fnames = os.listdir(Ruta + i)\n",
    "    for f in fnames:\n",
    "        if f.endswith(\".csv\"):\n",
    "            df = pd.read_csv(Ruta + i + f\"/{f}\")\n",
    "            name = f.replace('csv', 'mp4')\n",
    "            df['source'] = Ruta + i + f\"/{name}\"\n",
    "            df['subject'] = name[:-4]\n",
    "            lista_csv.append(df)"
   ]
  },
  {
   "cell_type": "code",
   "execution_count": 4,
   "metadata": {},
   "outputs": [],
   "source": [
    "# Dataframe con formato diferente\n",
    "df_last = lista_csv[-1]\n",
    "dfsCsv = lista_csv[:-1]"
   ]
  },
  {
   "cell_type": "code",
   "execution_count": 5,
   "metadata": {},
   "outputs": [
    {
     "data": {
      "text/html": [
       "<div>\n",
       "<style scoped>\n",
       "    .dataframe tbody tr th:only-of-type {\n",
       "        vertical-align: middle;\n",
       "    }\n",
       "\n",
       "    .dataframe tbody tr th {\n",
       "        vertical-align: top;\n",
       "    }\n",
       "\n",
       "    .dataframe thead th {\n",
       "        text-align: right;\n",
       "    }\n",
       "</style>\n",
       "<table border=\"1\" class=\"dataframe\">\n",
       "  <thead>\n",
       "    <tr style=\"text-align: right;\">\n",
       "      <th></th>\n",
       "      <th>inicio</th>\n",
       "      <th>fin</th>\n",
       "      <th>label</th>\n",
       "      <th>source</th>\n",
       "      <th>subject</th>\n",
       "    </tr>\n",
       "  </thead>\n",
       "  <tbody>\n",
       "    <tr>\n",
       "      <th>0</th>\n",
       "      <td>00:00</td>\n",
       "      <td>00:12</td>\n",
       "      <td>FRENTE</td>\n",
       "      <td>./Imagen/Scarlett/SCARLETT.mp4</td>\n",
       "      <td>SCARLETT</td>\n",
       "    </tr>\n",
       "    <tr>\n",
       "      <th>1</th>\n",
       "      <td>00:13</td>\n",
       "      <td>00:24</td>\n",
       "      <td>IZQUIERDA</td>\n",
       "      <td>./Imagen/Scarlett/SCARLETT.mp4</td>\n",
       "      <td>SCARLETT</td>\n",
       "    </tr>\n",
       "    <tr>\n",
       "      <th>2</th>\n",
       "      <td>00:25</td>\n",
       "      <td>00:35</td>\n",
       "      <td>RETROVISOR</td>\n",
       "      <td>./Imagen/Scarlett/SCARLETT.mp4</td>\n",
       "      <td>SCARLETT</td>\n",
       "    </tr>\n",
       "    <tr>\n",
       "      <th>3</th>\n",
       "      <td>00:37</td>\n",
       "      <td>00:47</td>\n",
       "      <td>DERECHA</td>\n",
       "      <td>./Imagen/Scarlett/SCARLETT.mp4</td>\n",
       "      <td>SCARLETT</td>\n",
       "    </tr>\n",
       "    <tr>\n",
       "      <th>4</th>\n",
       "      <td>00:48</td>\n",
       "      <td>01:00</td>\n",
       "      <td>PALANCA</td>\n",
       "      <td>./Imagen/Scarlett/SCARLETT.mp4</td>\n",
       "      <td>SCARLETT</td>\n",
       "    </tr>\n",
       "  </tbody>\n",
       "</table>\n",
       "</div>"
      ],
      "text/plain": [
       "  inicio    fin       label                          source   subject\n",
       "0  00:00  00:12      FRENTE  ./Imagen/Scarlett/SCARLETT.mp4  SCARLETT\n",
       "1  00:13  00:24   IZQUIERDA  ./Imagen/Scarlett/SCARLETT.mp4  SCARLETT\n",
       "2  00:25  00:35  RETROVISOR  ./Imagen/Scarlett/SCARLETT.mp4  SCARLETT\n",
       "3  00:37  00:47     DERECHA  ./Imagen/Scarlett/SCARLETT.mp4  SCARLETT\n",
       "4  00:48  01:00     PALANCA  ./Imagen/Scarlett/SCARLETT.mp4  SCARLETT"
      ]
     },
     "execution_count": 5,
     "metadata": {},
     "output_type": "execute_result"
    }
   ],
   "source": [
    "# Definir el mapeo de valores\n",
    "mapeo_valores = {\n",
    "    'frente': 'FRENTE',\n",
    "    'izquierdo': 'IZQUIERDA',\n",
    "    'central': 'RETROVISOR',\n",
    "    'derecho': 'DERECHA',\n",
    "    'palanca': 'PALANCA'\n",
    "}\n",
    "\n",
    "# Mapear los valores de la columna 'label'\n",
    "df_last['label'] = df_last['label'].map(mapeo_valores)\n",
    "\n",
    "df_last = df_last[['inicio', 'fin', 'label', 'source', 'subject']]\n",
    "df_last"
   ]
  },
  {
   "cell_type": "code",
   "execution_count": 6,
   "metadata": {},
   "outputs": [],
   "source": [
    "dfs_concat = []\n",
    "dfs_concat.append(df_last)\n",
    "for df in dfsCsv:\n",
    "    source = df['source'][0]\n",
    "    subject = df['subject'][0]\n",
    "    columns_to_keep = ['FRENTE', 'RETROVISOR', 'IZQUIERDA', 'DERECHA', 'PALANCA']\n",
    "    df = df[columns_to_keep]\n",
    "\n",
    "    # Usar melt para cambiar el formato del DataFrame\n",
    "    df = df.melt(var_name='label', value_name='intervalo')\n",
    "\n",
    "    # Separar la columna 'intervalo' en 'inicio' y 'fin'\n",
    "    df[['inicio', 'fin']] = df['intervalo'].str.split('-', expand=True)\n",
    "\n",
    "    # Eliminar la columna 'intervalo'\n",
    "    df.drop(columns='intervalo', inplace=True)\n",
    "\n",
    "    # Reordenar las columnas\n",
    "    df = df[['inicio', 'fin', 'label']]\n",
    "\n",
    "    df['source'] = source\n",
    "    df['subject'] = subject\n",
    "    df = df.dropna(axis=0)\n",
    "    dfs_concat.append(df)"
   ]
  },
  {
   "cell_type": "code",
   "execution_count": 7,
   "metadata": {},
   "outputs": [],
   "source": [
    "IMG_df = pd.concat(dfs_concat)"
   ]
  },
  {
   "cell_type": "code",
   "execution_count": 14,
   "metadata": {},
   "outputs": [
    {
     "name": "stdout",
     "output_type": "stream",
     "text": [
      "Videos guardados en la carpeta 'sources'.\n"
     ]
    }
   ],
   "source": [
    "# Crear la carpeta para guardar los videos recortados\n",
    "output_folder = './sources'\n",
    "if not os.path.exists(output_folder):\n",
    "    os.makedirs(output_folder)\n",
    "\n",
    "# Iterar sobre cada fila del DataFrame\n",
    "for index, row in IMG_df.iterrows():\n",
    "    subject = row['subject']\n",
    "    inicio = row['inicio']\n",
    "    fin = row['fin']\n",
    "    label = row['label']\n",
    "    source = row['source']\n",
    "    \n",
    "    # Cargar el video\n",
    "    video_capture = cv2.VideoCapture(source)\n",
    "    \n",
    "    # Obtener la tasa de fotogramas del video\n",
    "    fps = video_capture.get(cv2.CAP_PROP_FPS)\n",
    "    \n",
    "    # Verificar que el formato de inicio y fin sea válido\n",
    "    if ':' not in inicio or ':' not in fin:\n",
    "        print(f\"Error en el formato de tiempo en la fila {index}. Saltando esta fila.\")\n",
    "        continue\n",
    "    \n",
    "    # Convertir los tiempos de inicio y fin a segundos\n",
    "    inicio_segundos = int(inicio.split(':')[0]) * 60 + int(inicio.split(':')[1])\n",
    "    fin_segundos = int(fin.split(':')[0]) * 60 + int(fin.split(':')[1])\n",
    "    \n",
    "    # Crear el nombre del archivo de salida\n",
    "    folder_PAV = f'./sources/{label}'\n",
    "    if not os.path.exists(folder_PAV):\n",
    "        os.makedirs(folder_PAV)\n",
    "    output_filename = f\"{folder_PAV}/{subject}_{index}.mp4\"\n",
    "    IMG_df.at[index, 'source'] = output_filename\n",
    "    \n",
    "    # Crear un objeto VideoWriter para guardar el video recortado\n",
    "    fourcc = cv2.VideoWriter_fourcc(*'mp4v')\n",
    "    video_writer = cv2.VideoWriter(output_filename, fourcc, fps, (int(video_capture.get(3)), int(video_capture.get(4))))\n",
    "    \n",
    "    # Establecer el cuadro actual en el tiempo de inicio\n",
    "    video_capture.set(cv2.CAP_PROP_POS_FRAMES, inicio_segundos * fps)\n",
    "    \n",
    "    # Leer y escribir cada cuadro hasta el tiempo de finalización\n",
    "    while video_capture.get(cv2.CAP_PROP_POS_FRAMES) < fin_segundos * fps:\n",
    "        ret, frame = video_capture.read()\n",
    "        if ret:\n",
    "            video_writer.write(frame)\n",
    "        else:\n",
    "            break\n",
    "    \n",
    "    # Liberar los recursos\n",
    "    video_capture.release()\n",
    "    video_writer.release()\n",
    "\n",
    "print(\"Videos guardados en la carpeta 'sources'.\")"
   ]
  },
  {
   "cell_type": "code",
   "execution_count": 19,
   "metadata": {},
   "outputs": [],
   "source": [
    "def calc_landmark_list(image, landmarks):\n",
    "    image_width, image_height = image.shape[1], image.shape[0]\n",
    "    landmark_point = []\n",
    "    # Keypoint\n",
    "    for point in landmarks:\n",
    "        landmark_x = min(int(point.x * image_width), image_width - 1)\n",
    "        landmark_y = min(int(point.y * image_height), image_height - 1)\n",
    "        \n",
    "        landmark_point.append([landmark_x, landmark_y])\n",
    "\n",
    "    return landmark_point"
   ]
  },
  {
   "cell_type": "code",
   "execution_count": 20,
   "metadata": {},
   "outputs": [],
   "source": [
    "def pre_process_landmark(landmark_list):\n",
    "    temp_landmark_list = copy.deepcopy(landmark_list)\n",
    "\n",
    "    # Convert to relative coordinates\n",
    "    base_x, base_y = 0, 0\n",
    "    for index, landmark_point in enumerate(temp_landmark_list):\n",
    "        if index == 0:\n",
    "            base_x, base_y = landmark_point[0], landmark_point[1]\n",
    "\n",
    "        temp_landmark_list[index][0] = temp_landmark_list[index][0] - base_x\n",
    "        temp_landmark_list[index][1] = temp_landmark_list[index][1] - base_y\n",
    "\n",
    "    # Convert to a one-dimensional list\n",
    "    temp_landmark_list = list(\n",
    "        itertools.chain.from_iterable(temp_landmark_list))\n",
    "\n",
    "    # Normalization\n",
    "    max_value = max(list(map(abs, temp_landmark_list)))\n",
    "\n",
    "    def normalize_(n):\n",
    "        return n / max_value\n",
    "\n",
    "    temp_landmark_list = list(map(normalize_, temp_landmark_list))\n",
    "\n",
    "    return temp_landmark_list"
   ]
  },
  {
   "cell_type": "code",
   "execution_count": null,
   "metadata": {},
   "outputs": [],
   "source": []
  }
 ],
 "metadata": {
  "kernelspec": {
   "display_name": "Python 3",
   "language": "python",
   "name": "python3"
  },
  "language_info": {
   "codemirror_mode": {
    "name": "ipython",
    "version": 3
   },
   "file_extension": ".py",
   "mimetype": "text/x-python",
   "name": "python",
   "nbconvert_exporter": "python",
   "pygments_lexer": "ipython3",
   "version": "3.11.5"
  }
 },
 "nbformat": 4,
 "nbformat_minor": 2
}
