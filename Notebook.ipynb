{
 "cells": [
  {
   "cell_type": "markdown",
   "metadata": {},
   "source": [
    "# Procesamientos de imagenes y video"
   ]
  },
  {
   "cell_type": "markdown",
   "metadata": {},
   "source": [
    "La pr&aacute;ctica requiri&oacute; grabar a una persona al volante con el motor apagado, a la altura de los ojos. El conductor debe alternar su mirada hacia el frente, izquierda, derecha, retrovisor y palanca.\n",
    "Este proyecto tiene la finalidad de evaluar nuevos videos en tiempo real para determinar el desempeno del detector de PAVs."
   ]
  },
  {
   "cell_type": "code",
   "execution_count": 2,
   "metadata": {},
   "outputs": [],
   "source": [
    "# Importando librerias\n",
    "import pandas as pd\n",
    "import cv2\n",
    "import os"
   ]
  },
  {
   "cell_type": "code",
   "execution_count": 3,
   "metadata": {},
   "outputs": [
    {
     "name": "stdout",
     "output_type": "stream",
     "text": [
      "          FRENTE     IZQUIERDA      DERECHA   RETROVISOR      PALANCA\n",
      "0  00:00 - 00:08  00:11- 00:19  00:22-00:29  00:31-00:38  00:41-00:48\n"
     ]
    }
   ],
   "source": [
    "# Crear un diccionario con las clases y los valores\n",
    "d = {\n",
    "    \"FRENTE\": [\"00:00 - 00:08\"],\n",
    "    \"IZQUIERDA\": [\"00:11- 00:19\"],\n",
    "    \"DERECHA\": [\"00:22-00:29\"],\n",
    "    \"RETROVISOR\": [\"00:31-00:38\"],\n",
    "    \"PALANCA\": [\"00:41-00:48\"]\n",
    "}\n",
    "\n",
    "# Crear un dataframe con el diccionario\n",
    "df = pd.DataFrame(d)\n",
    "\n",
    "# Mostrar el dataframe\n",
    "print(df)\n",
    "df.to_csv(\"C:/Users/ages0/Documents/Ciencia de Datos Para Sensado Inteligente/Practica2_CDSI_ArianaEspinoza/ARIANA.csv\")"
   ]
  },
  {
   "cell_type": "code",
   "execution_count": 4,
   "metadata": {},
   "outputs": [],
   "source": [
    "def asegurar_directorio(path):\n",
    "    if not os.path.exists(path):\n",
    "        os.makedirs(path)\n",
    "\n",
    "def segmentar_video_y_guardar_frames(video_path, segmentos):\n",
    "    cap = cv2.VideoCapture(video_path)\n",
    "    fps = int(cap.get(cv2.CAP_PROP_FPS))\n",
    "    \n",
    "    for i, (inicio_seg, fin_seg) in enumerate(segmentos):\n",
    "        nombre_carpeta_segmento = f'segmento_{i+1}'\n",
    "        nombre_carpeta_frames = f'{nombre_carpeta_segmento}/frames'\n",
    "        asegurar_directorio(nombre_carpeta_segmento)\n",
    "        asegurar_directorio(nombre_carpeta_frames)\n",
    "        \n",
    "        fourcc = cv2.VideoWriter_fourcc(*'mp4v')\n",
    "        out = cv2.VideoWriter(f'{nombre_carpeta_segmento}/segmento_{i+1}.mp4', fourcc, fps, (int(cap.get(3)), int(cap.get(4))))\n",
    "        \n",
    "        inicio_frame = int(inicio_seg * fps)\n",
    "        fin_frame = int(fin_seg * fps)\n",
    "        \n",
    "        cap.set(cv2.CAP_PROP_POS_FRAMES, inicio_frame)\n",
    "        \n",
    "        for j in range(inicio_frame, fin_frame):\n",
    "            ret, frame = cap.read()\n",
    "            if not ret:\n",
    "                break\n",
    "            out.write(frame)\n",
    "            cv2.imwrite(f'{nombre_carpeta_frames}/frame_{j - inicio_frame + 1}.jpg', frame)\n",
    "        \n",
    "        out.release()\n",
    "    \n",
    "    cap.release()\n",
    "\n",
    "# Se llama a la funcion de forma que se especifique que segundos especificos quiero que me traiga los frames\n",
    "video_path = 'C:/Users/ages0/Desktop/ARIANA.mp4'\n",
    "segmentos = [(0, 8), (11, 19), (22, 29), (31, 38), (41, 48)]  # Inicio y fin de segmentos en segundos\n",
    "segmentar_video_y_guardar_frames(video_path, segmentos)\n"
   ]
  }
 ],
 "metadata": {
  "kernelspec": {
   "display_name": "Python 3",
   "language": "python",
   "name": "python3"
  },
  "language_info": {
   "codemirror_mode": {
    "name": "ipython",
    "version": 3
   },
   "file_extension": ".py",
   "mimetype": "text/x-python",
   "name": "python",
   "nbconvert_exporter": "python",
   "pygments_lexer": "ipython3",
   "version": "3.11.5"
  }
 },
 "nbformat": 4,
 "nbformat_minor": 2
}
